{
  "nbformat": 4,
  "nbformat_minor": 0,
  "metadata": {
    "colab": {
      "provenance": [],
      "authorship_tag": "ABX9TyMlw1sS3yEHT0eeYya3ipuC",
      "include_colab_link": true
    },
    "kernelspec": {
      "name": "python3",
      "display_name": "Python 3"
    },
    "language_info": {
      "name": "python"
    }
  },
  "cells": [
    {
      "cell_type": "markdown",
      "metadata": {
        "id": "view-in-github",
        "colab_type": "text"
      },
      "source": [
        "<a href=\"https://colab.research.google.com/github/shu65/plamo_api_examples/blob/main/plamo_api_example.ipynb\" target=\"_parent\"><img src=\"https://colab.research.google.com/assets/colab-badge.svg\" alt=\"Open In Colab\"/></a>"
      ]
    },
    {
      "cell_type": "code",
      "execution_count": 1,
      "metadata": {
        "colab": {
          "base_uri": "https://localhost:8080/"
        },
        "id": "MdGIDfAA919-",
        "outputId": "1e78c3b6-aa9e-479d-dd90-2cf0029f3e94"
      },
      "outputs": [
        {
          "output_type": "stream",
          "name": "stdout",
          "text": [
            "Requirement already satisfied: openai in /usr/local/lib/python3.10/dist-packages (1.54.4)\n",
            "Requirement already satisfied: python-dotenv in /usr/local/lib/python3.10/dist-packages (1.0.1)\n",
            "Requirement already satisfied: anyio<5,>=3.5.0 in /usr/local/lib/python3.10/dist-packages (from openai) (3.7.1)\n",
            "Requirement already satisfied: distro<2,>=1.7.0 in /usr/local/lib/python3.10/dist-packages (from openai) (1.9.0)\n",
            "Requirement already satisfied: httpx<1,>=0.23.0 in /usr/local/lib/python3.10/dist-packages (from openai) (0.27.2)\n",
            "Requirement already satisfied: jiter<1,>=0.4.0 in /usr/local/lib/python3.10/dist-packages (from openai) (0.7.1)\n",
            "Requirement already satisfied: pydantic<3,>=1.9.0 in /usr/local/lib/python3.10/dist-packages (from openai) (2.9.2)\n",
            "Requirement already satisfied: sniffio in /usr/local/lib/python3.10/dist-packages (from openai) (1.3.1)\n",
            "Requirement already satisfied: tqdm>4 in /usr/local/lib/python3.10/dist-packages (from openai) (4.66.6)\n",
            "Requirement already satisfied: typing-extensions<5,>=4.11 in /usr/local/lib/python3.10/dist-packages (from openai) (4.12.2)\n",
            "Requirement already satisfied: idna>=2.8 in /usr/local/lib/python3.10/dist-packages (from anyio<5,>=3.5.0->openai) (3.10)\n",
            "Requirement already satisfied: exceptiongroup in /usr/local/lib/python3.10/dist-packages (from anyio<5,>=3.5.0->openai) (1.2.2)\n",
            "Requirement already satisfied: certifi in /usr/local/lib/python3.10/dist-packages (from httpx<1,>=0.23.0->openai) (2024.8.30)\n",
            "Requirement already satisfied: httpcore==1.* in /usr/local/lib/python3.10/dist-packages (from httpx<1,>=0.23.0->openai) (1.0.7)\n",
            "Requirement already satisfied: h11<0.15,>=0.13 in /usr/local/lib/python3.10/dist-packages (from httpcore==1.*->httpx<1,>=0.23.0->openai) (0.14.0)\n",
            "Requirement already satisfied: annotated-types>=0.6.0 in /usr/local/lib/python3.10/dist-packages (from pydantic<3,>=1.9.0->openai) (0.7.0)\n",
            "Requirement already satisfied: pydantic-core==2.23.4 in /usr/local/lib/python3.10/dist-packages (from pydantic<3,>=1.9.0->openai) (2.23.4)\n"
          ]
        }
      ],
      "source": [
        "!pip install openai python-dotenv"
      ]
    },
    {
      "cell_type": "code",
      "source": [
        "!pip list | grep openai"
      ],
      "metadata": {
        "colab": {
          "base_uri": "https://localhost:8080/"
        },
        "id": "7Zj-h56A-Kk4",
        "outputId": "89714534-5d22-4295-8573-86cd2eaa07da"
      },
      "execution_count": 2,
      "outputs": [
        {
          "output_type": "stream",
          "name": "stdout",
          "text": [
            "langchain-openai                   0.2.10\n",
            "openai                             1.54.4\n"
          ]
        }
      ]
    },
    {
      "cell_type": "code",
      "source": [
        "from google.colab import drive\n",
        "drive.mount('/content/drive')"
      ],
      "metadata": {
        "colab": {
          "base_uri": "https://localhost:8080/"
        },
        "id": "DIoZW8eB-N7J",
        "outputId": "84b057f2-4db8-485b-95e2-4c2ecd45a9ff"
      },
      "execution_count": 3,
      "outputs": [
        {
          "output_type": "stream",
          "name": "stdout",
          "text": [
            "Drive already mounted at /content/drive; to attempt to forcibly remount, call drive.mount(\"/content/drive\", force_remount=True).\n"
          ]
        }
      ]
    },
    {
      "cell_type": "code",
      "source": [
        "from dotenv import load_dotenv\n",
        "\n",
        "load_dotenv(dotenv_path=\"/content/drive/MyDrive/colab_env/plamo_api_env\")"
      ],
      "metadata": {
        "colab": {
          "base_uri": "https://localhost:8080/"
        },
        "id": "eJuCvVyC-YQF",
        "outputId": "fcf77663-276b-4f8b-e9ae-aa34ff370b7b"
      },
      "execution_count": 4,
      "outputs": [
        {
          "output_type": "execute_result",
          "data": {
            "text/plain": [
              "True"
            ]
          },
          "metadata": {},
          "execution_count": 4
        }
      ]
    },
    {
      "cell_type": "code",
      "source": [
        "import os\n",
        "from openai import OpenAI\n",
        "\n",
        "client = OpenAI(\n",
        "    base_url=\"https://platform.preferredai.jp/api/completion/v1\",\n",
        "    # other params...,\n",
        ")\n",
        "\n",
        "completion = client.chat.completions.create(\n",
        "    model=\"plamo-1.0-prime\",\n",
        "    messages=[\n",
        "        {\"role\": \"system\", \"content\": \"あなたは旅行アドバイザーです\"},\n",
        "        {\"role\": \"user\", \"content\": \"金沢で朝から夕方まで1日のおすすめの観光ルートを教えて下さい\"},\n",
        "    ],\n",
        ")"
      ],
      "metadata": {
        "id": "SVGxfko2-m6H"
      },
      "execution_count": 5,
      "outputs": []
    },
    {
      "cell_type": "code",
      "source": [
        "print(completion.choices[0].message.content)"
      ],
      "metadata": {
        "colab": {
          "base_uri": "https://localhost:8080/"
        },
        "id": "nOW99kKZ-5S6",
        "outputId": "54412435-3e7e-471c-d18f-9607ce79cdf8"
      },
      "execution_count": 6,
      "outputs": [
        {
          "output_type": "stream",
          "name": "stdout",
          "text": [
            "金沢で朝から夕方までのおすすめの観光ルートを以下にご紹介いたします。\n",
            "\n",
            "\n",
            "【午前】\n",
            "\n",
            "金沢駅からスタートし、金沢の台所と呼ばれる近江町市場で朝食をとります。海鮮丼やお寿司などの金沢グルメをお楽しみください。\n",
            "\n",
            "近江町市場（お食事）\n",
            "\n",
            "↓（徒歩5分）\n",
            "\n",
            "金沢の城下町を再現した長町武家屋敷跡を散策します。土塀の続く街並みを眺めながら、のんびりとお散歩をお楽しみください。\n",
            "\n",
            "長町武家屋敷跡（散策）\n",
            "\n",
            "↓（徒歩10分）\n",
            "\n",
            "金沢市民の台所として親しまれている、金沢の三大市場のひとつ、「金沢市民の台所」として親しまれている、金沢の三大市場のひとつ、「金沢エムザ」でお土産を購入します。\n",
            "\n",
            "金沢エムザ（お土産購入）\n",
            "\n",
            "\n",
            "【午後】\n",
            "\n",
            "兼六園周辺へ移動し、金沢で最も古い神社である石浦神社を参拝します。\n",
            "\n",
            "石浦神社（参拝）\n",
            "\n",
            "↓（徒歩5分）\n",
            "\n",
            "日本三名園のひとつである兼六園を見学します。\n",
            "\n",
            "兼六園（見学）\n",
            "\n",
            "↓（徒歩5分）\n",
            "\n",
            "金沢城公園を散策します。\n",
            "\n",
            "金沢城公園（散策）\n",
            "\n",
            "↓（徒歩10分）\n",
            "\n",
            "尾山神社を参拝します。\n",
            "\n",
            "尾山神社（参拝）\n",
            "\n",
            "\n",
            "以上、朝から夕方までのおすすめの観光ルートをご紹介いたしました。\n",
            "\n",
            "なお、各スポットの営業時間や、その他のご希望などございましたら、お知らせください。お客様のご希望に沿ったプランをご提案いたします。\n"
          ]
        }
      ]
    }
  ]
}